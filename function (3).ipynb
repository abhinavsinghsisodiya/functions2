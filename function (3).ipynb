{
  "cells": [
    {
      "cell_type": "markdown",
      "metadata": {
        "id": "4-vN-HCGjSaO"
      },
      "source": [
        "# FUNCTIONS\n",
        "\n"
      ]
    },
    {
      "cell_type": "markdown",
      "metadata": {
        "id": "sBsb4zbY1lY_"
      },
      "source": []
    },
    {
      "cell_type": "markdown",
      "metadata": {
        "id": "LVrwlX6GP6XQ"
      },
      "source": [
        "THEORY QUESTIONS"
      ]
    },
    {
      "cell_type": "code",
      "execution_count": null,
      "metadata": {
        "id": "Yi7249VP4syi"
      },
      "outputs": [],
      "source": []
    },
    {
      "cell_type": "markdown",
      "metadata": {
        "id": "I58BTKY87kCH"
      },
      "source": [
        "\n",
        " 1.What is the difference between a function and a method in Python?\n",
        "\n",
        "    -In Python, functions are independent blocks of code, while methods are associated with classes or objects. Functions can be called from anywhere, while methods require an object or class instance to be invoked.\n",
        "     Eg-; function def greet(name):\n",
        "      return f\"Hello, {name}!\"\n",
        "\n",
        "       print(greet(\"Alice\")) # Output: Hello, Alice!\n",
        "\n",
        "      method class Greeter: def init(self, name):\n",
        "\n",
        "      self.name = name\n",
        "       def greet(self):\n",
        "\n",
        "      return f\"Hello, {self.name}!\"\n",
        "g = Greeter(\"Bob\") print(g.greet()) # Output: Hello, Bob!\n",
        "\n",
        "Here, greet is a method of the class Greeter and is called on the instance g of that class.\n",
        "\n",
        "\n",
        "\n",
        "\n",
        "\n",
        "\n",
        "\n",
        "\n",
        " 2. Explain the concept of function arguments and parameters in Python.\n",
        "   -:a \"parameter\" refers to a variable listed within a function definition, acting as a placeholder for data that will be passed in when the function is called, while an \"argument\" is the actual value that is provided to the function when it is invoked, essentially filling in the parameter's place with a concrete data piece; essentially, parameters are defined in the function, and arguments are used when calling the function.\n",
        "\n",
        "   eg-;\n",
        "   Example:1 def add(num1, num2): - Here, num1 and num2 are parameters.\n",
        "           2 Example: result = add(5, 3) - In this case, 5 and 3 are arguments.\n",
        "\n",
        "\n",
        "\n",
        "\n",
        "\n",
        "\n",
        " 3. What are the different ways to define and call a function in Python?\n",
        "\n",
        "    -; you define a function using the keyword \"def\" followed by the function name, parentheses containing any parameters, and a colon; to call a function, simply write the function name followed by parentheses, including any necessary arguments within them.\n",
        "    eg-:  \n",
        "    def greet(name):  # Defining a function called \"greet\" that takes one parameter \"name\"\n",
        "\n",
        "    print(\"Hello, \" + name + \"!\")  \n",
        "\n",
        "    greet(\"Alice\")  # Calling the \"greet\" function with the argument \"Alice\"\n",
        "\n",
        "\n",
        "\n",
        "\n",
        "\n",
        "\n",
        "\n",
        "\n",
        "\n",
        "\n",
        "    4.What is the purpose of the `return` statement in a Python function?\n",
        "     -:the return statement is used to send a specific value back to the code that called the function, effectively marking the end of the function's execution and providing the result of the function's operations as output; this allows the calling code to utilize the calculated value for further operations.\n",
        "     eg-;\n",
        "         def add_numbers(x, y):\n",
        "\n",
        "    result = x + y\n",
        "\n",
        "    return result  \n",
        "\n",
        "\n",
        "\n",
        "     sum = add_numbers(5, 3)  \n",
        "\n",
        "      print(sum)  # Output: 8\n",
        "\n",
        "\n",
        "\n",
        "\n",
        "\n",
        "\n",
        "\n",
        "\n",
        "\n",
        "\n",
        "\n",
        "      5. What are iterators in Python and how do they differ from iterables?\n",
        "       -;Iterable is an object, that one can iterate over. It generates an Iterator when passed to iter() method. An iterator is an object, which is used to iterate over an iterable object using the __next__() method. Iterators have the __next__() method, which returns the next item of the object.\n",
        "\n",
        "      Note: Every iterator is also an iterable, but not every iterable is an iterator in Python.\n",
        "\n",
        "      For example, a list is iterable but a list is not an iterator. An iterator can be created from an iterable by using the function iter(). To make this possible, the class of an object needs either a method __iter__, which returns an iterator, or a __getitem__ method with sequential indexes starting with 0.\n",
        "\n",
        "\n",
        "\n",
        "\n",
        "\n",
        "\n",
        "\n",
        "      6.explain the concept of generators in Python and how they are defined.\n",
        "      -;A generator function is a special type of function that returns an iterator object. Instead of using return to send back a single value, generator functions use yield to produce a series of results over time. This allows the function to generate values and pause its execution after each yield, maintaining its state between iterations.\n",
        "      they are defined using yield function.\n",
        "      eg-;def fun(max):\n",
        "     cnt = 1\n",
        "      while cnt <= max:\n",
        "        yield cnt\n",
        "        cnt += 1\n",
        "\n",
        "     ctr = fun(5)\n",
        "     for n in ctr:\n",
        "      print(n)\n",
        "\n",
        "\n",
        "\n",
        "\n",
        "\n",
        "      7. What are the advantages of using generators over regular functions?\n",
        "      \n",
        "       -;The main advantage of using generators over regular functions is their ability to generate values on-demand, one at a time, which makes them significantly more memory efficient when dealing with large datasets or infinite sequences, as they only calculate values when needed (lazy evaluation), unlike regular functions that return all values at once.\n",
        "\n",
        "\n",
        "\n",
        "\n",
        "\n",
        "\n",
        "       8. What is a lambda function in Python and when is it typically used?\n",
        "        \n",
        "         -;A lambda function in Python is an \"anonymous function,\" meaning it's a small, unnamed function defined inline using the lambda keyword, typically used as an argument to other functions like map, filter, or reduce when you need a simple, concise function to perform a single operation on data within a collection; essentially, it's a way to pass a function as an argument without having to explicitly define it beforehand.\n",
        "         Key points about lambda functions:\n",
        "        \n",
        "         Syntax:\n",
        "          lambda arguments: expression\n",
        "\n",
        "         Use case: When you need a short, one-time function to apply to a set of data, especially with higher-order functions that accept other functions as arguments.\n",
        "\n",
        "         eg-;numbers = [1, 2, 3, 4, 5]\n",
        "\n",
        "\n",
        "\n",
        "      # Square each number using a lambda function with map\n",
        "\n",
        "        squared_numbers = map(lambda x: x * x, numbers)\n",
        "         print(list(squared_numbers))\n",
        "          # Output: [1, 4, 9, 16, 25]\n",
        "\n",
        "\n",
        "\n",
        "\n",
        "\n",
        "\n",
        "          9. Explain the purpose and usage of the `map()` function in Python.\n",
        "         \n",
        "          -;the map() function is used to apply a specified function to every element within an iterable (like a list or tuple), effectively \"mapping\" the function across all items and returning an iterator containing the transformed results, allowing you to perform the same operation on multiple elements without needing an explicit loop.\n",
        "\n",
        "          eg-;numbers = [1, 2, 3, 4]\n",
        "\n",
        "           squares = map(lambda x: x**2, numbers)  # Square each number in the list\n",
        "            print(list(squares))  \n",
        "            # Output: [1, 4, 9, 16]\n",
        "\n",
        "          \n",
        "          \n",
        "\n",
        "\n",
        "\n",
        "\n",
        "\n",
        "            10. What is the difference between `map()`, `reduce()`, and `filter()` functions in Python?\n",
        "              \n",
        "              -;\"map()\" applies a function to every element in an iterable, returning a new iterable with the transformed elements; \"filter()\" selects elements from an iterable based on a condition, returning only those that meet the criteria; and \"reduce()\" combines elements of an iterable into a single value by applying a function cumulatively to pairs of elements.\n",
        "\n",
        "              eg-;from functools import reduce\n",
        "\n",
        "\n",
        "\n",
        "               numbers = [1, 2, 3, 4, 5]\n",
        "\n",
        "             # map: square each number\n",
        "\n",
        "              squared_numbers = list(map(lambda x: x**2, numbers))  \n",
        "\n",
        "              print(squared_numbers)  # Output: [1, 4, 9, 16, 25]\n",
        "\n",
        "             # filter: select even numbers\n",
        "\n",
        "              even_numbers = list(filter(lambda x: x % 2 == 0, numbers))\n",
        "\n",
        "              print(even_numbers)  # Output: [2, 4]\n",
        "\n",
        "\n",
        "\n",
        "            # reduce: calculate the sum of all numbers\n",
        "\n",
        "            total = reduce(lambda a, b: a + b, numbers)\n",
        "\n",
        "            print(total)  # Output: 15  \n",
        "\n",
        "\n",
        "\n",
        "\n",
        "\n",
        "\n",
        "            11. Using pen & Paper write the internal mechanism for sum  \n",
        "               operation using  reduce function on this given\n",
        "               list:[47,11,42,13];\n",
        "               -;https://drive.google.com/drive/folders/1_crGwYcgD3ibdP8FwzfVu6W6korpXd-5?usp=sharing\n",
        "               \n"
      ]
    },
    {
      "cell_type": "markdown",
      "metadata": {
        "id": "wqL5pvyIPblC"
      },
      "source": []
    },
    {
      "cell_type": "markdown",
      "source": [],
      "metadata": {
        "id": "q7XDYRL5k10T"
      }
    },
    {
      "cell_type": "markdown",
      "metadata": {
        "id": "WSQ8cezIPfBw"
      },
      "source": [
        "# PRACTICAL QUESTION"
      ]
    },
    {
      "cell_type": "markdown",
      "metadata": {
        "id": "49ZKcy3AP00X"
      },
      "source": [
        "1. Write a Python function that takes a list of numbers as input and returns the sum of all even numbers in\n",
        "the list"
      ]
    },
    {
      "cell_type": "code",
      "source": [
        "a = [1, 2, 3, 4, 5, 6, 7, 8, 9, 10]\n",
        "input\n",
        "print()\n",
        "# Iterate through each element in the list\n",
        "for val in a:\n",
        "\n",
        "    # Checks if a number is divisible by 2 (i.e., even).\n",
        "    if val % 2 == 0:\n",
        "        print(val, end = \" \")"
      ],
      "metadata": {
        "colab": {
          "base_uri": "https://localhost:8080/"
        },
        "id": "ED2SF67H1HTZ",
        "outputId": "a0132faa-d6a9-48e3-cccf-1b04e5e4d6c4"
      },
      "execution_count": null,
      "outputs": [
        {
          "output_type": "stream",
          "name": "stdout",
          "text": [
            "2 4 6 8 10 "
          ]
        }
      ]
    },
    {
      "cell_type": "markdown",
      "source": [],
      "metadata": {
        "id": "Mf20W0da6Twd"
      }
    },
    {
      "cell_type": "markdown",
      "source": [
        "\n",
        "\n",
        "\n",
        "\n",
        "2.Create a Python function that accepts a string and returns the reverse of that string."
      ],
      "metadata": {
        "id": "FhC0d7Yt6cA9"
      }
    },
    {
      "cell_type": "code",
      "source": [
        "def rev_func(string):\n",
        "    # Declare a string variable\n",
        "    revstr = ''\n",
        "\n",
        "    #Iterate string with for loop\n",
        "    for x in string:\n",
        "        # Appending chars in reverse order\n",
        "        revstr = x + revstr\n",
        "    return revstr\n",
        "\n",
        "string = str(input())\n",
        "\n",
        "#Print Original and Reverse string\n",
        "print('Original String: ', string)\n",
        "print('Reverse String: ', rev_func(string))"
      ],
      "metadata": {
        "colab": {
          "base_uri": "https://localhost:8080/"
        },
        "id": "edfcHDJt6gtg",
        "outputId": "97cd5dbc-6ba4-4cb1-b696-0c974246d1e5"
      },
      "execution_count": null,
      "outputs": [
        {
          "output_type": "stream",
          "name": "stdout",
          "text": [
            "python\n",
            "Original String:  python\n",
            "Reverse String:  nohtyp\n"
          ]
        }
      ]
    },
    {
      "cell_type": "markdown",
      "source": [],
      "metadata": {
        "id": "N0q9UBTU7IqM"
      }
    },
    {
      "cell_type": "markdown",
      "source": [
        "3. Implement a Python function that takes a list of integers and returns a new list containing the squares of\n",
        "each number."
      ],
      "metadata": {
        "id": "FQuLzoee8Nwh"
      }
    },
    {
      "cell_type": "code",
      "source": [
        "\n",
        "list_nums=[1, 2, 3, 4, 5]\n",
        "print(\"Original list:\",list_nums)\n",
        "list_nums= [i**2 for i in list_nums]\n",
        "print(\"Square elements:\",list_nums)"
      ],
      "metadata": {
        "colab": {
          "base_uri": "https://localhost:8080/"
        },
        "id": "rdeYvp3g8RKY",
        "outputId": "3262eb1a-6f18-4558-f551-a6e0fa095b78"
      },
      "execution_count": null,
      "outputs": [
        {
          "output_type": "stream",
          "name": "stdout",
          "text": [
            "Original list: [1, 2, 3, 4, 5]\n",
            "Square elements: [1, 4, 9, 16, 25]\n"
          ]
        }
      ]
    },
    {
      "cell_type": "markdown",
      "source": [
        "\n",
        "\n",
        "\n",
        "\n",
        "\n"
      ],
      "metadata": {
        "id": "jsKr10saSUP4"
      }
    },
    {
      "cell_type": "markdown",
      "source": [
        "4.Write a Python function that checks if a given number is prime or not from 1 to 200"
      ],
      "metadata": {
        "id": "gRPqF619SXva"
      }
    },
    {
      "cell_type": "markdown",
      "source": [],
      "metadata": {
        "id": "CDf8Y2l5SSly"
      }
    },
    {
      "cell_type": "code",
      "source": [
        "def checkPrime(num):\n",
        "\n",
        "    #  0, 1 and negative numbers are not prime\n",
        "    if num < 2:\n",
        "        return 0\n",
        "    else:\n",
        "\n",
        "        # no need to run loop till num-1 as for any number x the numbers in\n",
        "        # the range(num/2 + 1, num) won't be divisible anyway\n",
        "        # Example 36 won't be divisible by anything b/w 19-35\n",
        "\n",
        "        x = num // 2\n",
        "        for j in range(2, x + 1):\n",
        "            if num % j == 0:\n",
        "                return 0\n",
        "\n",
        "    # the number would be prime if we reach here\n",
        "    return 1\n",
        "\n",
        "\n",
        "a, b = 1, 200\n",
        "for i in range(a, b + 1):\n",
        "    if checkPrime(i):\n",
        "        print(i, end=\" \")"
      ],
      "metadata": {
        "colab": {
          "base_uri": "https://localhost:8080/"
        },
        "id": "xnrIn7BJUSjb",
        "outputId": "44c0d633-1175-41f1-a5fd-c93709d6456f"
      },
      "execution_count": null,
      "outputs": [
        {
          "output_type": "stream",
          "name": "stdout",
          "text": [
            "2 3 5 7 11 13 17 19 23 29 31 37 41 43 47 53 59 61 67 71 73 79 83 89 97 101 103 107 109 113 127 131 137 139 149 151 157 163 167 173 179 181 191 193 197 199 "
          ]
        }
      ]
    },
    {
      "cell_type": "markdown",
      "source": [],
      "metadata": {
        "id": "TaZChZthUbDC"
      }
    },
    {
      "cell_type": "markdown",
      "source": [
        "5. Create an iterator class in Python that generates the Fibonacci sequence up to a specified number of\n",
        "terms."
      ],
      "metadata": {
        "id": "N7Mk-A6hUarS"
      }
    },
    {
      "cell_type": "code",
      "source": [
        "class FibonacciIterator:\n",
        "    def __init__(self, limit):\n",
        "        self.limit = limit\n",
        "        self.a = 0\n",
        "        self.b = 1\n",
        "\n",
        "    def __iter__(self):\n",
        "        return self\n",
        "\n",
        "    def __next__(self):\n",
        "        if self.a > self.limit:\n",
        "            raise StopIteration\n",
        "        current = self.a\n",
        "        self.a, self.b = self.b, self.a + self.b\n",
        "        return current\n",
        "\n",
        "# Create an instance of FibonacciIterator\n",
        "fib_iterator = FibonacciIterator(200)\n",
        "\n",
        "# Using a for loop to iterate\n",
        "print(\"Using for loop:\")\n",
        "for num in fib_iterator:\n",
        "    print(num)\n"
      ],
      "metadata": {
        "colab": {
          "base_uri": "https://localhost:8080/"
        },
        "id": "iOiJKkj2Wm6G",
        "outputId": "c81f5882-d34b-4eac-82f7-6ee3ed32dd09"
      },
      "execution_count": null,
      "outputs": [
        {
          "output_type": "stream",
          "name": "stdout",
          "text": [
            "Using for loop:\n",
            "0\n",
            "1\n",
            "1\n",
            "2\n",
            "3\n",
            "5\n",
            "8\n",
            "13\n",
            "21\n",
            "34\n",
            "55\n",
            "89\n",
            "144\n"
          ]
        }
      ]
    },
    {
      "cell_type": "markdown",
      "source": [],
      "metadata": {
        "id": "RXrlViKuXehq"
      }
    },
    {
      "cell_type": "markdown",
      "source": [
        "6.. Write a generator function in Python that yields the powers of 2 up to a given exponent."
      ],
      "metadata": {
        "id": "u7hUAUGsXd8s"
      }
    },
    {
      "cell_type": "code",
      "source": [
        "def power_generator(base, exponent):\n",
        "    result = 1\n",
        "    for i in range(exponent + 1):\n",
        "        yield result\n",
        "        result *= base\n",
        "\n",
        "# Accept input from the user\n",
        "base = int(input(\"Input the base number: \"))\n",
        "exponent = int(input(\"Input the exponent: \"))\n",
        "\n",
        "# Create the generator object\n",
        "power_gen = power_generator(base, exponent)\n",
        "\n",
        "# Generate and print the powers\n",
        "print(f\"Powers of {base} up to exponent {exponent}:\")\n",
        "for power in power_gen:\n",
        "    print(power)"
      ],
      "metadata": {
        "colab": {
          "base_uri": "https://localhost:8080/"
        },
        "id": "5J6xmEIDYGH5",
        "outputId": "9aa6975c-618e-4fbf-f83a-ca410df1672d"
      },
      "execution_count": null,
      "outputs": [
        {
          "output_type": "stream",
          "name": "stdout",
          "text": [
            "Input the base number: 2\n",
            "Input the exponent: 140\n",
            "Powers of 2 up to exponent 140:\n",
            "1\n",
            "2\n",
            "4\n",
            "8\n",
            "16\n",
            "32\n",
            "64\n",
            "128\n",
            "256\n",
            "512\n",
            "1024\n",
            "2048\n",
            "4096\n",
            "8192\n",
            "16384\n",
            "32768\n",
            "65536\n",
            "131072\n",
            "262144\n",
            "524288\n",
            "1048576\n",
            "2097152\n",
            "4194304\n",
            "8388608\n",
            "16777216\n",
            "33554432\n",
            "67108864\n",
            "134217728\n",
            "268435456\n",
            "536870912\n",
            "1073741824\n",
            "2147483648\n",
            "4294967296\n",
            "8589934592\n",
            "17179869184\n",
            "34359738368\n",
            "68719476736\n",
            "137438953472\n",
            "274877906944\n",
            "549755813888\n",
            "1099511627776\n",
            "2199023255552\n",
            "4398046511104\n",
            "8796093022208\n",
            "17592186044416\n",
            "35184372088832\n",
            "70368744177664\n",
            "140737488355328\n",
            "281474976710656\n",
            "562949953421312\n",
            "1125899906842624\n",
            "2251799813685248\n",
            "4503599627370496\n",
            "9007199254740992\n",
            "18014398509481984\n",
            "36028797018963968\n",
            "72057594037927936\n",
            "144115188075855872\n",
            "288230376151711744\n",
            "576460752303423488\n",
            "1152921504606846976\n",
            "2305843009213693952\n",
            "4611686018427387904\n",
            "9223372036854775808\n",
            "18446744073709551616\n",
            "36893488147419103232\n",
            "73786976294838206464\n",
            "147573952589676412928\n",
            "295147905179352825856\n",
            "590295810358705651712\n",
            "1180591620717411303424\n",
            "2361183241434822606848\n",
            "4722366482869645213696\n",
            "9444732965739290427392\n",
            "18889465931478580854784\n",
            "37778931862957161709568\n",
            "75557863725914323419136\n",
            "151115727451828646838272\n",
            "302231454903657293676544\n",
            "604462909807314587353088\n",
            "1208925819614629174706176\n",
            "2417851639229258349412352\n",
            "4835703278458516698824704\n",
            "9671406556917033397649408\n",
            "19342813113834066795298816\n",
            "38685626227668133590597632\n",
            "77371252455336267181195264\n",
            "154742504910672534362390528\n",
            "309485009821345068724781056\n",
            "618970019642690137449562112\n",
            "1237940039285380274899124224\n",
            "2475880078570760549798248448\n",
            "4951760157141521099596496896\n",
            "9903520314283042199192993792\n",
            "19807040628566084398385987584\n",
            "39614081257132168796771975168\n",
            "79228162514264337593543950336\n",
            "158456325028528675187087900672\n",
            "316912650057057350374175801344\n",
            "633825300114114700748351602688\n",
            "1267650600228229401496703205376\n",
            "2535301200456458802993406410752\n",
            "5070602400912917605986812821504\n",
            "10141204801825835211973625643008\n",
            "20282409603651670423947251286016\n",
            "40564819207303340847894502572032\n",
            "81129638414606681695789005144064\n",
            "162259276829213363391578010288128\n",
            "324518553658426726783156020576256\n",
            "649037107316853453566312041152512\n",
            "1298074214633706907132624082305024\n",
            "2596148429267413814265248164610048\n",
            "5192296858534827628530496329220096\n",
            "10384593717069655257060992658440192\n",
            "20769187434139310514121985316880384\n",
            "41538374868278621028243970633760768\n",
            "83076749736557242056487941267521536\n",
            "166153499473114484112975882535043072\n",
            "332306998946228968225951765070086144\n",
            "664613997892457936451903530140172288\n",
            "1329227995784915872903807060280344576\n",
            "2658455991569831745807614120560689152\n",
            "5316911983139663491615228241121378304\n",
            "10633823966279326983230456482242756608\n",
            "21267647932558653966460912964485513216\n",
            "42535295865117307932921825928971026432\n",
            "85070591730234615865843651857942052864\n",
            "170141183460469231731687303715884105728\n",
            "340282366920938463463374607431768211456\n",
            "680564733841876926926749214863536422912\n",
            "1361129467683753853853498429727072845824\n",
            "2722258935367507707706996859454145691648\n",
            "5444517870735015415413993718908291383296\n",
            "10889035741470030830827987437816582766592\n",
            "21778071482940061661655974875633165533184\n",
            "43556142965880123323311949751266331066368\n",
            "87112285931760246646623899502532662132736\n",
            "174224571863520493293247799005065324265472\n",
            "348449143727040986586495598010130648530944\n",
            "696898287454081973172991196020261297061888\n",
            "1393796574908163946345982392040522594123776\n"
          ]
        }
      ]
    },
    {
      "cell_type": "markdown",
      "source": [],
      "metadata": {
        "id": "86uAS7OjYW05"
      }
    },
    {
      "cell_type": "markdown",
      "source": [
        "7.. Implement a generator function that reads a file line by line and yields each line as a string."
      ],
      "metadata": {
        "id": "jYuz0hIMYWTB"
      }
    },
    {
      "cell_type": "code",
      "source": [
        "\n",
        "\n",
        "def read_file_line_by_line(file_path):\n",
        "    \"\"\"\n",
        "    A generator function that reads a file line by line.\n",
        "\n",
        "    :param file_path: The path to the file to be read.\n",
        "    :yield: Each line of the file as a string.\n",
        "    \"\"\"\n",
        "    try:\n",
        "        with open(file_path, 'r') as file:\n",
        "            for line in file:\n",
        "                yield line  # Yield each line directly\n",
        "    except FileNotFoundError:\n",
        "        print(f\"Error: The file at '{file_path}' was not found.\")\n",
        "    except IOError:\n",
        "        print(f\"Error: An I/O error occurred while reading the file at '{file_path}'.\")\n",
        "\n",
        "# Usage example\n",
        "if __name__ == \"__main__\":\n",
        "    file_path = 'example.txt'  # Replace with the path to your file\n",
        "\n",
        "    for line in read_file_line_by_line(file_path):\n",
        "        print(line, end='')  # Process each line as desired, 'end' prevents double new line\n"
      ],
      "metadata": {
        "colab": {
          "base_uri": "https://localhost:8080/"
        },
        "id": "wDgZ-TVDiTJE",
        "outputId": "d4002342-42d0-4aca-f2cf-a3d4dc175de4"
      },
      "execution_count": null,
      "outputs": [
        {
          "output_type": "stream",
          "name": "stdout",
          "text": [
            "Error: The file at 'example.txt' was not found.\n"
          ]
        }
      ]
    },
    {
      "cell_type": "markdown",
      "source": [],
      "metadata": {
        "id": "MgGUia31k1iN"
      }
    },
    {
      "cell_type": "markdown",
      "source": [
        "8. Use a lambda function in Python to sort a list of tuples based on the second element of each tuple."
      ],
      "metadata": {
        "id": "wBv9k5oqk0ul"
      }
    },
    {
      "cell_type": "code",
      "source": [
        "# Create a list of tuples named 'subject_marks', each tuple containing a subject and its corresponding marks\n",
        "subject_marks = [('English', 88), ('Science', 90), ('Maths', 97), ('Social sciences', 82)]\n",
        "\n",
        "# Display the original list of tuples to the console\n",
        "print(\"Original list of tuples:\")\n",
        "print(subject_marks)\n",
        "\n",
        "# Sort the 'subject_marks' list of tuples based on the second element of each tuple (the marks),\n",
        "# using a lambda function as the sorting key to extract the second element\n",
        "subject_marks.sort(key=lambda x: x[1])\n",
        "\n",
        "# Display the sorted list of tuples to the console\n",
        "print(\"\\nSorting the List of Tuples:\")\n",
        "print(subject_marks)\n"
      ],
      "metadata": {
        "colab": {
          "base_uri": "https://localhost:8080/"
        },
        "id": "5J_IQY5SkzWO",
        "outputId": "332b472b-6d38-4666-b929-d5e504331dd3"
      },
      "execution_count": null,
      "outputs": [
        {
          "output_type": "stream",
          "name": "stdout",
          "text": [
            "Original list of tuples:\n",
            "[('English', 88), ('Science', 90), ('Maths', 97), ('Social sciences', 82)]\n",
            "\n",
            "Sorting the List of Tuples:\n",
            "[('Social sciences', 82), ('English', 88), ('Science', 90), ('Maths', 97)]\n"
          ]
        }
      ]
    },
    {
      "cell_type": "markdown",
      "source": [],
      "metadata": {
        "id": "KQiwC53Gl_ls"
      }
    },
    {
      "cell_type": "markdown",
      "source": [
        "9. Write a Python program that uses `map()` to convert a list of temperatures from Celsius to Fahrenheit."
      ],
      "metadata": {
        "id": "qWHI-rtil-mi"
      }
    },
    {
      "cell_type": "code",
      "source": [
        "def celsius_to_fahrenheit(celsius):\n",
        "    return (celsius * 9/5) + 32\n",
        "\n",
        "temperatures_celsius = [0, 20, 37, 100]\n",
        "temperatures_fahrenheit = list(map(celsius_to_fahrenheit, temperatures_celsius))\n",
        "\n",
        "print(temperatures_fahrenheit)"
      ],
      "metadata": {
        "colab": {
          "base_uri": "https://localhost:8080/"
        },
        "id": "TwwxdOJtmAqT",
        "outputId": "3b76e9de-4f34-4253-aab9-2dd17c454a34"
      },
      "execution_count": null,
      "outputs": [
        {
          "output_type": "stream",
          "name": "stdout",
          "text": [
            "[32.0, 68.0, 98.6, 212.0]\n"
          ]
        }
      ]
    },
    {
      "cell_type": "markdown",
      "source": [],
      "metadata": {
        "id": "5W-rPSkpmTkh"
      }
    },
    {
      "cell_type": "markdown",
      "source": [
        "10. Create a Python program that uses `filter()` to remove all the vowels from a given string"
      ],
      "metadata": {
        "id": "b4X9_SG2mYGi"
      }
    },
    {
      "cell_type": "code",
      "source": [
        "def remove_vowels(input_string):\n",
        "    vowels = 'aeiouAEIOU'\n",
        "    return ''.join(filter(lambda x: x not in vowels, input_string))\n",
        "\n",
        "input_string = \"Hello, World!\"\n",
        "result = remove_vowels(input_string)\n",
        "print(result)\n"
      ],
      "metadata": {
        "colab": {
          "base_uri": "https://localhost:8080/"
        },
        "id": "k63B01ec3Dnu",
        "outputId": "8ab4e4e9-02ad-4615-80f7-2f3eb9d7caa5"
      },
      "execution_count": null,
      "outputs": [
        {
          "output_type": "stream",
          "name": "stdout",
          "text": [
            "Hll, Wrld!\n"
          ]
        }
      ]
    },
    {
      "cell_type": "markdown",
      "source": [],
      "metadata": {
        "id": "tfk9YJFd49zJ"
      }
    },
    {
      "cell_type": "markdown",
      "source": [
        "11.) Imagine an accounting routine used in a book shop. It works on a list with sublists, which look like this:\n",
        "\n",
        "orderno  book title and author     Quantity    price\n",
        "34587        A           X          4           40.95\n",
        "98762        B           Y           5           56.80\n",
        "77226         C          Z           3            32.95\n",
        "88112          D         W           3            24.99\n",
        "\n",
        "\n",
        "\n",
        "\n",
        "\n",
        "Write a Python program, which returns a list with 2-tuples. Each tuple consists of the order number and the\n",
        "product of the price per item and the quantity. The product should be increased by 10,- € if the value of the\n",
        "order is smaller than 100,00 €.\n",
        "\n",
        "Write a Python program using lambda and map"
      ],
      "metadata": {
        "id": "9A4jVGtQ4805"
      }
    },
    {
      "cell_type": "code",
      "source": [
        "from functools import reduce\n",
        "\n",
        "orders = [\n",
        "    [34587, 'Book A', 40.95, 4],\n",
        "    [98762, 'Book B', 56.80, 5],\n",
        "    [77226, 'Book C', 32.95, 3],\n",
        "    [88112, 'Book D', 24.99, 3]\n",
        "]\n",
        "\n",
        "calculate_order_value = lambda order: (order[0], order[2] * order[3] + (10 if order[2] * order[3] < 10000 else 0))\n",
        "\n",
        "result = list(map(calculate_order_value, orders))\n",
        "print(result)\n"
      ],
      "metadata": {
        "colab": {
          "base_uri": "https://localhost:8080/"
        },
        "id": "g6Ps7Sja5OQQ",
        "outputId": "28113ae3-8b78-4b94-fd7c-d95fe7c803d2"
      },
      "execution_count": null,
      "outputs": [
        {
          "output_type": "stream",
          "name": "stdout",
          "text": [
            "[(34587, 173.8), (98762, 294.0), (77226, 108.85000000000001), (88112, 84.97)]\n"
          ]
        }
      ]
    },
    {
      "cell_type": "code",
      "source": [],
      "metadata": {
        "id": "5BunuuD8ByFb"
      },
      "execution_count": null,
      "outputs": []
    }
  ],
  "metadata": {
    "colab": {
      "provenance": []
    },
    "kernelspec": {
      "display_name": "Python 3",
      "name": "python3"
    },
    "language_info": {
      "name": "python"
    }
  },
  "nbformat": 4,
  "nbformat_minor": 0
}